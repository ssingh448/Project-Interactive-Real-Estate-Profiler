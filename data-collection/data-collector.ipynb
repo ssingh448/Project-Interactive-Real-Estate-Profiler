{
 "cells": [
  {
   "cell_type": "code",
   "execution_count": 1,
   "metadata": {
    "collapsed": true
   },
   "outputs": [],
   "source": [
    "import pandas as pd"
   ]
  },
  {
   "cell_type": "code",
   "execution_count": 8,
   "outputs": [],
   "source": [
    "zips_df = pd.read_csv('data/public/us_postal_codes.csv')\n",
    "pop_df = pd.read_csv('data/public/archive/population_by_zip_2010.csv')"
   ],
   "metadata": {
    "collapsed": false
   }
  },
  {
   "cell_type": "code",
   "execution_count": 9,
   "outputs": [],
   "source": [
    "zips_df = zips_df.rename(columns={'Zip Code': 'zipcode'})"
   ],
   "metadata": {
    "collapsed": false
   }
  },
  {
   "cell_type": "code",
   "execution_count": 10,
   "outputs": [],
   "source": [
    "pop_df = pop_df.drop(columns=['minimum_age', 'maximum_age', 'gender', 'geo_id'])\n",
    "pop_sum_df = pop_df.groupby(['zipcode']).sum()"
   ],
   "metadata": {
    "collapsed": false
   }
  },
  {
   "cell_type": "code",
   "execution_count": 11,
   "outputs": [],
   "source": [
    "final_df = zips_df.merge(pop_sum_df, on='zipcode', how='left')"
   ],
   "metadata": {
    "collapsed": false
   }
  },
  {
   "cell_type": "code",
   "execution_count": 22,
   "outputs": [
    {
     "name": "stderr",
     "output_type": "stream",
     "text": [
      "/Users/eduardo.quiros/.local/share/virtualenvs/Scraper-3nfPsjWQ/lib/python3.7/site-packages/IPython/core/interactiveshell.py:3553: DtypeWarning: Columns (0,1) have mixed types.Specify dtype option on import or set low_memory=False.\n",
      "  exec(code_obj, self.user_global_ns, self.user_ns)\n"
     ]
    }
   ],
   "source": [
    "zillow_core_df = pd.read_csv('data/public/RDC_Inventory_Core_Metrics_Zip.csv')"
   ],
   "metadata": {
    "collapsed": false
   }
  },
  {
   "cell_type": "code",
   "execution_count": 25,
   "outputs": [],
   "source": [
    "core_cols = zillow_core_df.columns.tolist()"
   ],
   "metadata": {
    "collapsed": false
   }
  },
  {
   "cell_type": "code",
   "execution_count": 23,
   "outputs": [],
   "source": [
    "zillow_core_df = zillow_core_df.rename(columns={'postal_code': 'zipcode'})"
   ],
   "metadata": {
    "collapsed": false
   }
  },
  {
   "cell_type": "code",
   "execution_count": 24,
   "outputs": [],
   "source": [
    "zillow_core_df = zillow_core_df.drop(columns=['median_listing_price_mm', 'median_listing_price_yy',\n",
    "                                              'active_listing_count_mm', 'active_listing_count_yy',\n",
    "                                              'median_days_on_market_mm', 'median_days_on_market_yy',\n",
    "                                              'new_listing_count_mm', 'new_listing_count_yy',\n",
    "                                              'price_increased_count_mm', 'price_increased_count_yy',\n",
    "                                              'price_reduced_count_mm', 'price_reduced_count_yy',\n",
    "                                              'pending_listing_count_mm', 'pending_listing_count_yy',\n",
    "                                              'median_listing_price_per_square_foot_mm', 'median_listing_price_per_square_foot_yy',\n",
    "                                              'median_square_feet_mm', 'median_square_feet_yy',\n",
    "                                              'average_listing_price_mm', 'average_listing_price_yy',\n",
    "                                              'total_listing_count_mm', 'total_listing_count_yy',\n",
    "                                              'pending_ratio_mm', 'pending_ratio_yy', 'pending_ratio',\n",
    "                                              'month_date_yyyymm', 'quality_flag', 'zip_name'])"
   ],
   "metadata": {
    "collapsed": false
   }
  },
  {
   "cell_type": "code",
   "execution_count": 26,
   "outputs": [],
   "source": [
    "final_df = final_df.merge(zillow_core_df, on='zipcode', how='left')"
   ],
   "metadata": {
    "collapsed": false
   }
  },
  {
   "cell_type": "code",
   "execution_count": 27,
   "outputs": [],
   "source": [
    "final_df = final_df.drop(columns=['State', 'Latitude', 'Longitude'])\n",
    "final_df = final_df.rename(columns={'Place Name': 'city',\n",
    "                                    'State Abbreviation': 'state',\n",
    "                                    'County': 'county'})"
   ],
   "metadata": {
    "collapsed": false
   }
  },
  {
   "cell_type": "code",
   "execution_count": 28,
   "outputs": [],
   "source": [
    "final_df.to_csv('data/merged/zipcode_data.csv', index=False)"
   ],
   "metadata": {
    "collapsed": false
   }
  },
  {
   "cell_type": "code",
   "execution_count": null,
   "outputs": [],
   "source": [],
   "metadata": {
    "collapsed": false
   }
  }
 ],
 "metadata": {
  "kernelspec": {
   "display_name": "Python 3",
   "language": "python",
   "name": "python3"
  },
  "language_info": {
   "codemirror_mode": {
    "name": "ipython",
    "version": 2
   },
   "file_extension": ".py",
   "mimetype": "text/x-python",
   "name": "python",
   "nbconvert_exporter": "python",
   "pygments_lexer": "ipython2",
   "version": "2.7.6"
  }
 },
 "nbformat": 4,
 "nbformat_minor": 0
}
